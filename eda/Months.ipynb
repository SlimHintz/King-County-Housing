{
 "cells": [
  {
   "cell_type": "code",
   "execution_count": 1,
   "metadata": {},
   "outputs": [],
   "source": [
    "from sklearn.feature_selection import RFE\n",
    "from sklearn.model_selection import train_test_split, cross_val_score\n",
    "from sklearn.linear_model import LinearRegression\n",
    "from sklearn.dummy import DummyRegressor\n",
    "from sklearn.metrics import mean_squared_error\n",
    "\n",
    "from sklearn.preprocessing import StandardScaler\n",
    "\n",
    "from statsmodels.formula.api import ols\n",
    "\n",
    "\n",
    "\n",
    "from scipy import stats\n",
    "import pandas as pd\n",
    "import numpy as np\n",
    "import seaborn as sns\n",
    "import matplotlib.pyplot as plt\n",
    "\n",
    "import warnings \n",
    "\n",
    "warnings.filterwarnings(\"ignore\")\n",
    "\n",
    "%matplotlib inline"
   ]
  },
  {
   "cell_type": "code",
   "execution_count": 2,
   "metadata": {},
   "outputs": [],
   "source": [
    "X = pd.read_csv('../raw/X.csv')\n",
    "y  = pd.read_csv('../raw/y.csv', header=None)\n",
    "y.columns = ['price']"
   ]
  },
  {
   "cell_type": "code",
   "execution_count": 3,
   "metadata": {},
   "outputs": [],
   "source": [
    "datetime = pd.to_datetime(X.date)"
   ]
  },
  {
   "cell_type": "code",
   "execution_count": 4,
   "metadata": {},
   "outputs": [
    {
     "data": {
      "text/plain": [
       "0        40\n",
       "1        33\n",
       "2        32\n",
       "3        13\n",
       "4        28\n",
       "         ..\n",
       "17285    09\n",
       "17286    20\n",
       "17287    19\n",
       "17288    48\n",
       "17289    02\n",
       "Name: date, Length: 17290, dtype: object"
      ]
     },
     "execution_count": 4,
     "metadata": {},
     "output_type": "execute_result"
    }
   ],
   "source": [
    "week = datetime.dt.strftime(\"%W\")\n",
    "week"
   ]
  },
  {
   "cell_type": "code",
   "execution_count": 5,
   "metadata": {},
   "outputs": [],
   "source": [
    "X['week'] = week"
   ]
  },
  {
   "cell_type": "code",
   "execution_count": 6,
   "metadata": {},
   "outputs": [],
   "source": [
    "week_df = pd.concat([X['week'], y], axis=1)"
   ]
  },
  {
   "cell_type": "code",
   "execution_count": 7,
   "metadata": {},
   "outputs": [
    {
     "data": {
      "text/plain": [
       "(390000, 510000)"
      ]
     },
     "execution_count": 7,
     "metadata": {},
     "output_type": "execute_result"
    },
    {
     "data": {
      "image/png": "[encoded data removed]",
      "text/plain": [
       "<Figure size 432x288 with 1 Axes>"
      ]
     },
     "metadata": {
      "needs_background": "light"
     },
     "output_type": "display_data"
    }
   ],
   "source": [
    "week_df.groupby(['week']).price.median().plot(kind='bar')\n",
    "plt.ylim(390000, 510000)\n"
   ]
  },
  {
   "cell_type": "code",
   "execution_count": 8,
   "metadata": {},
   "outputs": [
    {
     "data": {
      "text/plain": [
       "{'00', '13', '14', '15', '16', '23', '24', '26', '35', '52'}"
      ]
     },
     "execution_count": 8,
     "metadata": {},
     "output_type": "execute_result"
    }
   ],
   "source": [
    "# grap top 10 most profitable weeks by mean and median and find overlap.\n",
    "median = set(week_df.groupby(['week']).price.median().sort_values(ascending=False)[:10].index)\n",
    "mean = set(week_df.groupby(['week']).price.median().sort_values(ascending=False)[:10].index)\n",
    "\n",
    "mean.union(median)\n",
    "\n",
    "# up to 10 the mean and medain months are exactly "
   ]
  },
  {
   "cell_type": "code",
   "execution_count": 9,
   "metadata": {},
   "outputs": [],
   "source": [
    "month = datetime.dt.strftime(\"%m\")\n",
    "X['month'] = month"
   ]
  },
  {
   "cell_type": "code",
   "execution_count": 10,
   "metadata": {},
   "outputs": [
    {
     "data": {
      "text/plain": [
       "(500000, 600000)"
      ]
     },
     "execution_count": 10,
     "metadata": {},
     "output_type": "execute_result"
    },
    {
     "data": {
      "image/png": "[encoded data removed]",
      "text/plain": [
       "<Figure size 432x288 with 1 Axes>"
      ]
     },
     "metadata": {
      "needs_background": "light"
     },
     "output_type": "display_data"
    }
   ],
   "source": [
    "month_df = pd.concat([X['month'], y], axis=1)\n",
    "month_df.groupby(['month']).price.mean().plot(kind='bar')\n",
    "plt.ylim(500000,600000)"
   ]
  },
  {
   "cell_type": "code",
   "execution_count": 11,
   "metadata": {},
   "outputs": [],
   "source": [
    "# Try peak vs off peak dummies and then monthly dummies\n",
    "\n",
    "month_dummies = pd.get_dummies(month_df.month)\n",
    "week_dummies_total = pd.get_dummies(week_df.week)\n",
    "week_dummies_total.columns = [str(x) for x in week_dummies_total.columns]"
   ]
  },
  {
   "cell_type": "code",
   "execution_count": 12,
   "metadata": {},
   "outputs": [],
   "source": [
    "week_dummies_top10 = week_dummies_total[['00', '13', '14', '15', '16', '23', '24', '26', '35', '52']]"
   ]
  },
  {
   "cell_type": "code",
   "execution_count": 13,
   "metadata": {},
   "outputs": [],
   "source": [
    "# Let's evaluate the model.\n",
    "\n",
    "test_model = pd.concat([X, week_dummies_top10], axis=1)"
   ]
  },
  {
   "cell_type": "code",
   "execution_count": 14,
   "metadata": {},
   "outputs": [],
   "source": [
    "test_model = pd.concat([test_model, month_dummies],axis=1)"
   ]
  },
  {
   "cell_type": "code",
   "execution_count": 15,
   "metadata": {},
   "outputs": [],
   "source": [
    "pd.concat([week_dummies_top10, month_dummies], axis=1).to_csv(\"../cleanedData/weekMonthDummies.csv\")"
   ]
  },
  {
   "cell_type": "code",
   "execution_count": 16,
   "metadata": {},
   "outputs": [],
   "source": [
    "test_model.drop(columns=['id', 'date'], inplace = True)"
   ]
  },
  {
   "cell_type": "code",
   "execution_count": 17,
   "metadata": {},
   "outputs": [],
   "source": [
    "# Split the data into training and test data\n",
    "X_train, X_test, y_train, y_test = train_test_split(test_model, y,               # Pass in our X and y\n",
    "                                                    random_state=42,    # Abritary select a random_state \n",
    "                                                    test_size=.2        # Split test size to be 20% of full data.\n",
    "                                                   )"
   ]
  },
  {
   "cell_type": "code",
   "execution_count": 18,
   "metadata": {},
   "outputs": [
    {
     "data": {
      "text/plain": [
       "365427.6229977706"
      ]
     },
     "execution_count": 18,
     "metadata": {},
     "output_type": "execute_result"
    }
   ],
   "source": [
    "lr = LinearRegression()\n",
    "lr.fit(X_train.iloc[:,20:], y_train)\n",
    "y_hat = lr.predict(X_test.iloc[:,20:])\n",
    "RMSE = mean_squared_error(y_test, y_hat)\n",
    "RMSE**0.5"
   ]
  },
  {
   "cell_type": "code",
   "execution_count": 19,
   "metadata": {},
   "outputs": [
    {
     "data": {
      "text/plain": [
       "[(0, 'bedrooms'),\n",
       " (1, 'bathrooms'),\n",
       " (2, 'sqft_living'),\n",
       " (3, 'sqft_lot'),\n",
       " (4, 'floors'),\n",
       " (5, 'waterfront'),\n",
       " (6, 'view'),\n",
       " (7, 'condition'),\n",
       " (8, 'grade'),\n",
       " (9, 'sqft_above'),\n",
       " (10, 'sqft_basement'),\n",
       " (11, 'yr_built'),\n",
       " (12, 'yr_renovated'),\n",
       " (13, 'zipcode'),\n",
       " (14, 'lat'),\n",
       " (15, 'long'),\n",
       " (16, 'sqft_living15'),\n",
       " (17, 'sqft_lot15'),\n",
       " (18, 'week'),\n",
       " (19, 'month'),\n",
       " (20, '00'),\n",
       " (21, '13'),\n",
       " (22, '14'),\n",
       " (23, '15'),\n",
       " (24, '16'),\n",
       " (25, '23'),\n",
       " (26, '24'),\n",
       " (27, '26'),\n",
       " (28, '35'),\n",
       " (29, '52'),\n",
       " (30, '01'),\n",
       " (31, '02'),\n",
       " (32, '03'),\n",
       " (33, '04'),\n",
       " (34, '05'),\n",
       " (35, '06'),\n",
       " (36, '07'),\n",
       " (37, '08'),\n",
       " (38, '09'),\n",
       " (39, '10'),\n",
       " (40, '11'),\n",
       " (41, '12')]"
      ]
     },
     "execution_count": 19,
     "metadata": {},
     "output_type": "execute_result"
    }
   ],
   "source": [
    "list(enumerate(X_train.columns))"
   ]
  },
  {
   "cell_type": "code",
   "execution_count": 20,
   "metadata": {},
   "outputs": [],
   "source": [
    "# When I ran the comvined model, I got a terribel result."
   ]
  },
  {
   "cell_type": "markdown",
   "metadata": {},
   "source": [
    "### Let's creat peak season and off season"
   ]
  },
  {
   "cell_type": "code",
   "execution_count": 21,
   "metadata": {},
   "outputs": [],
   "source": [
    "def peak_season(month):\n",
    "    if month in [4,5,6]:\n",
    "        return 'peak'\n",
    "    elif month in [1,2,9,11,12]:\n",
    "        return 'offpeak'\n",
    "    else:\n",
    "        return 'normal_season'"
   ]
  },
  {
   "cell_type": "code",
   "execution_count": 22,
   "metadata": {},
   "outputs": [],
   "source": [
    "test = pd.concat([X, y], axis=1)\n",
    "test.month = test.month.astype(int)"
   ]
  },
  {
   "cell_type": "code",
   "execution_count": 23,
   "metadata": {},
   "outputs": [],
   "source": [
    "test['peak'] = test.month.apply(peak_season)"
   ]
  },
  {
   "cell_type": "code",
   "execution_count": 24,
   "metadata": {},
   "outputs": [],
   "source": [
    "peak = test[test.peak == 'peak']\n",
    "offpeak = test[test.peak == 'offpeak']\n",
    "normal = test[test.peak == 'normal_season']"
   ]
  },
  {
   "cell_type": "code",
   "execution_count": 26,
   "metadata": {},
   "outputs": [
    {
     "data": {
      "text/plain": [
       "(490000, 560000)"
      ]
     },
     "execution_count": 26,
     "metadata": {},
     "output_type": "execute_result"
    },
    {
     "data": {
      "image/png": "[encoded data removed]",
      "text/plain": [
       "<Figure size 432x288 with 1 Axes>"
      ]
     },
     "metadata": {
      "needs_background": "light"
     },
     "output_type": "display_data"
    }
   ],
   "source": [
    "test.groupby('peak').price.mean().plot(kind='bar')\n",
    "plt.ylim(490000, 560000)"
   ]
  },
  {
   "cell_type": "markdown",
   "metadata": {},
   "source": [
    "### Perform statistical tests between the groups"
   ]
  },
  {
   "cell_type": "code",
   "execution_count": 138,
   "metadata": {},
   "outputs": [
    {
     "name": "stdout",
     "output_type": "stream",
     "text": [
      "36720.238000085636\n"
     ]
    },
    {
     "data": {
      "text/plain": [
       "Ttest_indResult(statistic=5.173833459270526, pvalue=2.334085061315023e-07)"
      ]
     },
     "execution_count": 138,
     "metadata": {},
     "output_type": "execute_result"
    }
   ],
   "source": [
    "# peak vs off peak ttest \n",
    "print(peak.price.mean() - offpeak.price.mean())\n",
    "stats.levene(peak.price, offpeak.price) # Rejected\n",
    "stats.ttest_ind(peak.price, offpeak.price, equal_var=False)"
   ]
  },
  {
   "cell_type": "code",
   "execution_count": 139,
   "metadata": {},
   "outputs": [
    {
     "name": "stdout",
     "output_type": "stream",
     "text": [
      "17824.835047457367\n"
     ]
    },
    {
     "data": {
      "text/plain": [
       "Ttest_indResult(statistic=2.5425659344696623, pvalue=0.011016854999620442)"
      ]
     },
     "execution_count": 139,
     "metadata": {},
     "output_type": "execute_result"
    }
   ],
   "source": [
    "# peak vs regular season\n",
    "print(peak.price.mean()-normal.price.mean())\n",
    "stats.levene(peak.price, normal.price) # Failed to reject\n",
    "stats.ttest_ind(peak.price, normal.price) # significant "
   ]
  },
  {
   "cell_type": "code",
   "execution_count": 140,
   "metadata": {},
   "outputs": [
    {
     "name": "stdout",
     "output_type": "stream",
     "text": [
      "18895.40295262827\n"
     ]
    },
    {
     "data": {
      "text/plain": [
       "Ttest_indResult(statistic=2.7962682450352854, pvalue=0.005178077743120801)"
      ]
     },
     "execution_count": 140,
     "metadata": {},
     "output_type": "execute_result"
    }
   ],
   "source": [
    "# normal season vs offpeak\n",
    "print(normal.price.mean() -  offpeak.price.mean())\n",
    "stats.levene(normal.price, offpeak.price) # Rejected\n",
    "stats.ttest_ind(normal.price, offpeak.price, equal_var=False)"
   ]
  },
  {
   "cell_type": "code",
   "execution_count": 141,
   "metadata": {},
   "outputs": [],
   "source": [
    "season_dummies = pd.get_dummies(test.peak)"
   ]
  },
  {
   "cell_type": "code",
   "execution_count": 145,
   "metadata": {},
   "outputs": [
    {
     "name": "stdout",
     "output_type": "stream",
     "text": [
      "5485 6311 5494\n"
     ]
    }
   ],
   "source": [
    "# drop one of the columns to avoid colinaerity\n",
    "print(len(peak), len(normal), len(offpeak))\n",
    "season_dummies.drop(columns=['normal_season'], inplace=True)"
   ]
  },
  {
   "cell_type": "code",
   "execution_count": 146,
   "metadata": {},
   "outputs": [],
   "source": [
    "season_dummies.to_csv(\"../cleanedData/seasonDummies.csv\", index=False)"
   ]
  },
  {
   "cell_type": "code",
   "execution_count": 131,
   "metadata": {},
   "outputs": [
    {
     "data": {
      "text/plain": [
       "0        0.745113\n",
       "1        0.999912\n",
       "2        0.551427\n",
       "3        0.420167\n",
       "4        0.270906\n",
       "           ...   \n",
       "17285    0.412118\n",
       "17286    0.912945\n",
       "17287    0.149877\n",
       "17288   -0.768255\n",
       "17289    0.909297\n",
       "Name: week, Length: 17290, dtype: float64"
      ]
     },
     "execution_count": 131,
     "metadata": {},
     "output_type": "execute_result"
    }
   ],
   "source": [
    "# weeks look a little bit like a sin wave. let's reshape the data to be between 0 and 2pi\n",
    "np.sin(test.week.astype(int))"
   ]
  },
  {
   "cell_type": "code",
   "execution_count": 132,
   "metadata": {},
   "outputs": [
    {
     "data": {
      "text/plain": [
       "<matplotlib.axes._subplots.AxesSubplot at 0x7f7fa81876d8>"
      ]
     },
     "execution_count": 132,
     "metadata": {},
     "output_type": "execute_result"
    },
    {
     "data": {
      "image/png": "[encoded data removed]",
      "text/plain": [
       "<Figure size 432x288 with 1 Axes>"
      ]
     },
     "metadata": {
      "needs_background": "light"
     },
     "output_type": "display_data"
    }
   ],
   "source": [
    "sns.lineplot(data=np.sin(test.week.astype(int)))"
   ]
  },
  {
   "cell_type": "markdown",
   "metadata": {},
   "source": []
  },
  {
   "cell_type": "markdown",
   "metadata": {},
   "source": [
    "## Let's do the same to our holdout data"
   ]
  },
  {
   "cell_type": "code",
   "execution_count": 157,
   "metadata": {},
   "outputs": [
    {
     "data": {
      "text/plain": [
       "(4323, 20)"
      ]
     },
     "execution_count": 157,
     "metadata": {},
     "output_type": "execute_result"
    }
   ],
   "source": [
    "df = pd.read_csv('../raw/kc_holdout_data.csv', index_col=0)\n",
    "df.shape"
   ]
  },
  {
   "cell_type": "code",
   "execution_count": 158,
   "metadata": {},
   "outputs": [],
   "source": [
    "month = pd.to_datetime(df.date)"
   ]
  },
  {
   "cell_type": "code",
   "execution_count": 159,
   "metadata": {},
   "outputs": [],
   "source": [
    "month = month.dt.strftime(\"%m\").astype(int)"
   ]
  },
  {
   "cell_type": "code",
   "execution_count": 160,
   "metadata": {},
   "outputs": [],
   "source": [
    "df['month'] = month"
   ]
  },
  {
   "cell_type": "code",
   "execution_count": 161,
   "metadata": {},
   "outputs": [],
   "source": [
    "df['peak']=df.month.apply(peak_season)\n"
   ]
  },
  {
   "cell_type": "code",
   "execution_count": 165,
   "metadata": {},
   "outputs": [
    {
     "data": {
      "text/plain": [
       "peak\n",
       "normal_season    1616\n",
       "offpeak          1379\n",
       "peak             1328\n",
       "Name: id, dtype: int64"
      ]
     },
     "execution_count": 165,
     "metadata": {},
     "output_type": "execute_result"
    }
   ],
   "source": [
    "df.groupby(['peak']).id.count()"
   ]
  },
  {
   "cell_type": "code",
   "execution_count": 163,
   "metadata": {},
   "outputs": [
    {
     "data": {
      "text/html": [
       "<div>\n",
       "<style scoped>\n",
       "    .dataframe tbody tr th:only-of-type {\n",
       "        vertical-align: middle;\n",
       "    }\n",
       "\n",
       "    .dataframe tbody tr th {\n",
       "        vertical-align: top;\n",
       "    }\n",
       "\n",
       "    .dataframe thead th {\n",
       "        text-align: right;\n",
       "    }\n",
       "</style>\n",
       "<table border=\"1\" class=\"dataframe\">\n",
       "  <thead>\n",
       "    <tr style=\"text-align: right;\">\n",
       "      <th></th>\n",
       "      <th>id</th>\n",
       "      <th>date</th>\n",
       "      <th>bedrooms</th>\n",
       "      <th>bathrooms</th>\n",
       "      <th>sqft_living</th>\n",
       "      <th>sqft_lot</th>\n",
       "      <th>floors</th>\n",
       "      <th>waterfront</th>\n",
       "      <th>view</th>\n",
       "      <th>condition</th>\n",
       "      <th>...</th>\n",
       "      <th>sqft_basement</th>\n",
       "      <th>yr_built</th>\n",
       "      <th>yr_renovated</th>\n",
       "      <th>zipcode</th>\n",
       "      <th>lat</th>\n",
       "      <th>long</th>\n",
       "      <th>sqft_living15</th>\n",
       "      <th>sqft_lot15</th>\n",
       "      <th>month</th>\n",
       "      <th>peak</th>\n",
       "    </tr>\n",
       "  </thead>\n",
       "  <tbody>\n",
       "    <tr>\n",
       "      <th>0</th>\n",
       "      <td>1974300020</td>\n",
       "      <td>20140827T000000</td>\n",
       "      <td>4</td>\n",
       "      <td>2.50</td>\n",
       "      <td>2270</td>\n",
       "      <td>11500</td>\n",
       "      <td>1.0</td>\n",
       "      <td>0</td>\n",
       "      <td>0</td>\n",
       "      <td>3</td>\n",
       "      <td>...</td>\n",
       "      <td>730</td>\n",
       "      <td>1967</td>\n",
       "      <td>0</td>\n",
       "      <td>98034</td>\n",
       "      <td>47.7089</td>\n",
       "      <td>-122.241</td>\n",
       "      <td>2020</td>\n",
       "      <td>10918</td>\n",
       "      <td>8</td>\n",
       "      <td>normal_season</td>\n",
       "    </tr>\n",
       "    <tr>\n",
       "      <th>1</th>\n",
       "      <td>1974300020</td>\n",
       "      <td>20150218T000000</td>\n",
       "      <td>4</td>\n",
       "      <td>2.50</td>\n",
       "      <td>2270</td>\n",
       "      <td>11500</td>\n",
       "      <td>1.0</td>\n",
       "      <td>0</td>\n",
       "      <td>0</td>\n",
       "      <td>3</td>\n",
       "      <td>...</td>\n",
       "      <td>730</td>\n",
       "      <td>1967</td>\n",
       "      <td>0</td>\n",
       "      <td>98034</td>\n",
       "      <td>47.7089</td>\n",
       "      <td>-122.241</td>\n",
       "      <td>2020</td>\n",
       "      <td>10918</td>\n",
       "      <td>2</td>\n",
       "      <td>offpeak</td>\n",
       "    </tr>\n",
       "    <tr>\n",
       "      <th>2</th>\n",
       "      <td>3630020380</td>\n",
       "      <td>20141107T000000</td>\n",
       "      <td>3</td>\n",
       "      <td>2.50</td>\n",
       "      <td>1470</td>\n",
       "      <td>1779</td>\n",
       "      <td>2.0</td>\n",
       "      <td>0</td>\n",
       "      <td>0</td>\n",
       "      <td>3</td>\n",
       "      <td>...</td>\n",
       "      <td>310</td>\n",
       "      <td>2005</td>\n",
       "      <td>0</td>\n",
       "      <td>98029</td>\n",
       "      <td>47.5472</td>\n",
       "      <td>-121.998</td>\n",
       "      <td>1470</td>\n",
       "      <td>1576</td>\n",
       "      <td>11</td>\n",
       "      <td>offpeak</td>\n",
       "    </tr>\n",
       "    <tr>\n",
       "      <th>3</th>\n",
       "      <td>1771000290</td>\n",
       "      <td>20141203T000000</td>\n",
       "      <td>3</td>\n",
       "      <td>1.75</td>\n",
       "      <td>1280</td>\n",
       "      <td>16200</td>\n",
       "      <td>1.0</td>\n",
       "      <td>0</td>\n",
       "      <td>0</td>\n",
       "      <td>3</td>\n",
       "      <td>...</td>\n",
       "      <td>250</td>\n",
       "      <td>1976</td>\n",
       "      <td>0</td>\n",
       "      <td>98077</td>\n",
       "      <td>47.7427</td>\n",
       "      <td>-122.071</td>\n",
       "      <td>1160</td>\n",
       "      <td>10565</td>\n",
       "      <td>12</td>\n",
       "      <td>offpeak</td>\n",
       "    </tr>\n",
       "    <tr>\n",
       "      <th>4</th>\n",
       "      <td>5126310470</td>\n",
       "      <td>20150115T000000</td>\n",
       "      <td>4</td>\n",
       "      <td>2.75</td>\n",
       "      <td>2830</td>\n",
       "      <td>8126</td>\n",
       "      <td>2.0</td>\n",
       "      <td>0</td>\n",
       "      <td>0</td>\n",
       "      <td>3</td>\n",
       "      <td>...</td>\n",
       "      <td>0</td>\n",
       "      <td>2005</td>\n",
       "      <td>0</td>\n",
       "      <td>98059</td>\n",
       "      <td>47.4863</td>\n",
       "      <td>-122.140</td>\n",
       "      <td>2830</td>\n",
       "      <td>7916</td>\n",
       "      <td>1</td>\n",
       "      <td>offpeak</td>\n",
       "    </tr>\n",
       "  </tbody>\n",
       "</table>\n",
       "<p>5 rows × 22 columns</p>\n",
       "</div>"
      ],
      "text/plain": [
       "           id             date  bedrooms  bathrooms  sqft_living  sqft_lot  \\\n",
       "0  1974300020  20140827T000000         4       2.50         2270     11500   \n",
       "1  1974300020  20150218T000000         4       2.50         2270     11500   \n",
       "2  3630020380  20141107T000000         3       2.50         1470      1779   \n",
       "3  1771000290  20141203T000000         3       1.75         1280     16200   \n",
       "4  5126310470  20150115T000000         4       2.75         2830      8126   \n",
       "\n",
       "   floors  waterfront  view  condition  ...  sqft_basement  yr_built  \\\n",
       "0     1.0           0     0          3  ...            730      1967   \n",
       "1     1.0           0     0          3  ...            730      1967   \n",
       "2     2.0           0     0          3  ...            310      2005   \n",
       "3     1.0           0     0          3  ...            250      1976   \n",
       "4     2.0           0     0          3  ...              0      2005   \n",
       "\n",
       "   yr_renovated  zipcode      lat     long  sqft_living15  sqft_lot15  month  \\\n",
       "0             0    98034  47.7089 -122.241           2020       10918      8   \n",
       "1             0    98034  47.7089 -122.241           2020       10918      2   \n",
       "2             0    98029  47.5472 -121.998           1470        1576     11   \n",
       "3             0    98077  47.7427 -122.071           1160       10565     12   \n",
       "4             0    98059  47.4863 -122.140           2830        7916      1   \n",
       "\n",
       "            peak  \n",
       "0  normal_season  \n",
       "1        offpeak  \n",
       "2        offpeak  \n",
       "3        offpeak  \n",
       "4        offpeak  \n",
       "\n",
       "[5 rows x 22 columns]"
      ]
     },
     "execution_count": 163,
     "metadata": {},
     "output_type": "execute_result"
    }
   ],
   "source": [
    "df.head()"
   ]
  },
  {
   "cell_type": "code",
   "execution_count": 166,
   "metadata": {},
   "outputs": [],
   "source": [
    "season_dummies= pd.get_dummies(df.peak)"
   ]
  },
  {
   "cell_type": "code",
   "execution_count": 169,
   "metadata": {},
   "outputs": [],
   "source": [
    "season_dummies.drop(columns=['normal_season'], inplace=True)"
   ]
  },
  {
   "cell_type": "code",
   "execution_count": 171,
   "metadata": {},
   "outputs": [],
   "source": [
    "season_dummies.to_csv('../cleanedData/holdoutSeason.csv')"
   ]
  },
  {
   "cell_type": "code",
   "execution_count": null,
   "metadata": {},
   "outputs": [],
   "source": []
  }
 ],
 "metadata": {
  "kernelspec": {
   "display_name": "learn-env",
   "language": "python",
   "name": "learn-env"
  },
  "language_info": {
   "codemirror_mode": {
    "name": "ipython",
    "version": 3
   },
   "file_extension": ".py",
   "mimetype": "text/x-python",
   "name": "python",
   "nbconvert_exporter": "python",
   "pygments_lexer": "ipython3",
   "version": "3.6.9"
  }
 },
 "nbformat": 4,
 "nbformat_minor": 4
}
